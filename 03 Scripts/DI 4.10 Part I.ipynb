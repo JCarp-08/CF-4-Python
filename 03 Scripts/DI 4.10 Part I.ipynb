{
 "cells": [
  {
   "cell_type": "markdown",
   "id": "56b23e08",
   "metadata": {},
   "source": [
    "# Directory\n",
    "\n",
    "### 01. Import Libraries\n",
    "### 02. Import Data and PII Assessment\n",
    "### 03. Crosstabs\n",
    "### 04. Regional Segmentation\n",
    "### 05. Low Activity Exclusion Flag\n",
    "### 06. Export\n",
    "\n",
    "## See DI 4.10 Part II for remainder of task"
   ]
  },
  {
   "cell_type": "markdown",
   "id": "e21f4897",
   "metadata": {},
   "source": [
    "## 01. Import Libraries"
   ]
  },
  {
   "cell_type": "code",
   "execution_count": 1,
   "id": "a1572241",
   "metadata": {},
   "outputs": [],
   "source": [
    "import pandas as pd\n",
    "import numpy as np\n",
    "import os"
   ]
  },
  {
   "cell_type": "markdown",
   "id": "01c64566",
   "metadata": {},
   "source": [
    "## 02. Import Data"
   ]
  },
  {
   "cell_type": "code",
   "execution_count": 2,
   "id": "b7c8b771",
   "metadata": {},
   "outputs": [],
   "source": [
    "#Data courtosey of Instacart and Career Foundry for use on this project.\n",
    "#Data is the merged set from DI 4.9\n",
    "df_full = pd.read_pickle(r'C:\\Users\\jmanc\\OneDrive\\Desktop\\InstaCart Basket Analysis\\02 Data\\Prepared Data\\ICB_full_merge.pkl')"
   ]
  },
  {
   "cell_type": "code",
   "execution_count": 6,
   "id": "ac648034",
   "metadata": {},
   "outputs": [
    {
     "data": {
      "text/plain": [
       "frequent        21578273\n",
       "regular          7217066\n",
       "non-frequent     3639720\n",
       "Name: frequent_shopper, dtype: int64"
      ]
     },
     "execution_count": 6,
     "metadata": {},
     "output_type": "execute_result"
    }
   ],
   "source": [
    "df_full['frequent_shopper'].value_counts()"
   ]
  },
  {
   "cell_type": "code",
   "execution_count": 5,
   "id": "bdfe468a",
   "metadata": {
    "collapsed": true
   },
   "outputs": [
    {
     "name": "stdout",
     "output_type": "stream",
     "text": [
      "<class 'pandas.core.frame.DataFrame'>\n",
      "Int64Index: 32435059 entries, 0 to 32435058\n",
      "Data columns (total 28 columns):\n",
      " #   Column                  Dtype  \n",
      "---  ------                  -----  \n",
      " 0   order_id                float64\n",
      " 1   user_id                 float64\n",
      " 2   order_number            float64\n",
      " 3   orders_day_of_week      float64\n",
      " 4   hour_of_order           float64\n",
      " 5   days_since_prior_order  float64\n",
      " 6   product_id              int64  \n",
      " 7   add_to_cart_order       float64\n",
      " 8   reordered               float64\n",
      " 9   product_name            object \n",
      " 10  aisle_id                float64\n",
      " 11  department_id           float64\n",
      " 12  prices                  float64\n",
      " 13  max_order               float64\n",
      " 14  loyalty_flag            object \n",
      " 15  mean_price              float64\n",
      " 16  spending_flag           object \n",
      " 17  med_dspo                float64\n",
      " 18  frequent_shopper        object \n",
      " 19  Gender                  object \n",
      " 20  state                   object \n",
      " 21  Age                     int64  \n",
      " 22  date_joined             object \n",
      " 23  dependants              int64  \n",
      " 24  fam_status              object \n",
      " 25  income                  int64  \n",
      " 26  region                  object \n",
      " 27  exclusion_flag          object \n",
      "dtypes: float64(14), int64(4), object(10)\n",
      "memory usage: 7.0+ GB\n"
     ]
    }
   ],
   "source": [
    "df_full.info()"
   ]
  },
  {
   "cell_type": "markdown",
   "id": "1d872544",
   "metadata": {},
   "source": [
    "## PII Assessment:\n",
    "Names removed from data in DI 4.9 Part I, Section 3. No addresses found or specific identifiers such as SSNs or credit card numbers. Any personal identifying information has been removed. Identifiers such as age, familial status, income, etc. are nondescript. Data requires no further action."
   ]
  },
  {
   "cell_type": "code",
   "execution_count": 3,
   "id": "6a2ffb72",
   "metadata": {},
   "outputs": [],
   "source": [
    "df_full.loc[df_full['prices'] >100, 'prices'] = np.nan"
   ]
  },
  {
   "cell_type": "code",
   "execution_count": 15,
   "id": "089a243c",
   "metadata": {
    "collapsed": true
   },
   "outputs": [
    {
     "data": {
      "text/plain": [
       "25.0"
      ]
     },
     "execution_count": 15,
     "metadata": {},
     "output_type": "execute_result"
    }
   ],
   "source": [
    "df_full['prices'].max()"
   ]
  },
  {
   "cell_type": "markdown",
   "id": "78d3ec69",
   "metadata": {},
   "source": [
    "## 03. Crosstab from lesson"
   ]
  },
  {
   "cell_type": "code",
   "execution_count": 16,
   "id": "cbe4c839",
   "metadata": {},
   "outputs": [],
   "source": [
    "crosstab = pd.crosstab(df_full['days_since_prior_order'], df_full['order_number'], dropna = False)"
   ]
  },
  {
   "cell_type": "code",
   "execution_count": 17,
   "id": "35ca5b74",
   "metadata": {
    "collapsed": true
   },
   "outputs": [
    {
     "data": {
      "text/html": [
       "<div>\n",
       "<style scoped>\n",
       "    .dataframe tbody tr th:only-of-type {\n",
       "        vertical-align: middle;\n",
       "    }\n",
       "\n",
       "    .dataframe tbody tr th {\n",
       "        vertical-align: top;\n",
       "    }\n",
       "\n",
       "    .dataframe thead th {\n",
       "        text-align: right;\n",
       "    }\n",
       "</style>\n",
       "<table border=\"1\" class=\"dataframe\">\n",
       "  <thead>\n",
       "    <tr style=\"text-align: right;\">\n",
       "      <th>order_number</th>\n",
       "      <th>1.0</th>\n",
       "      <th>2.0</th>\n",
       "      <th>3.0</th>\n",
       "      <th>4.0</th>\n",
       "      <th>5.0</th>\n",
       "      <th>6.0</th>\n",
       "      <th>7.0</th>\n",
       "      <th>8.0</th>\n",
       "      <th>9.0</th>\n",
       "      <th>10.0</th>\n",
       "      <th>...</th>\n",
       "      <th>90.0</th>\n",
       "      <th>91.0</th>\n",
       "      <th>92.0</th>\n",
       "      <th>93.0</th>\n",
       "      <th>94.0</th>\n",
       "      <th>95.0</th>\n",
       "      <th>96.0</th>\n",
       "      <th>97.0</th>\n",
       "      <th>98.0</th>\n",
       "      <th>99.0</th>\n",
       "    </tr>\n",
       "    <tr>\n",
       "      <th>days_since_prior_order</th>\n",
       "      <th></th>\n",
       "      <th></th>\n",
       "      <th></th>\n",
       "      <th></th>\n",
       "      <th></th>\n",
       "      <th></th>\n",
       "      <th></th>\n",
       "      <th></th>\n",
       "      <th></th>\n",
       "      <th></th>\n",
       "      <th></th>\n",
       "      <th></th>\n",
       "      <th></th>\n",
       "      <th></th>\n",
       "      <th></th>\n",
       "      <th></th>\n",
       "      <th></th>\n",
       "      <th></th>\n",
       "      <th></th>\n",
       "      <th></th>\n",
       "      <th></th>\n",
       "    </tr>\n",
       "  </thead>\n",
       "  <tbody>\n",
       "    <tr>\n",
       "      <th>0.0</th>\n",
       "      <td>0</td>\n",
       "      <td>20564</td>\n",
       "      <td>20452</td>\n",
       "      <td>18000</td>\n",
       "      <td>16451</td>\n",
       "      <td>16063</td>\n",
       "      <td>14396</td>\n",
       "      <td>13896</td>\n",
       "      <td>12782</td>\n",
       "      <td>11470</td>\n",
       "      <td>...</td>\n",
       "      <td>1195</td>\n",
       "      <td>1150</td>\n",
       "      <td>1040</td>\n",
       "      <td>937</td>\n",
       "      <td>1137</td>\n",
       "      <td>1099</td>\n",
       "      <td>1041</td>\n",
       "      <td>885</td>\n",
       "      <td>1038</td>\n",
       "      <td>937</td>\n",
       "    </tr>\n",
       "    <tr>\n",
       "      <th>1.0</th>\n",
       "      <td>0</td>\n",
       "      <td>31693</td>\n",
       "      <td>29975</td>\n",
       "      <td>28028</td>\n",
       "      <td>27112</td>\n",
       "      <td>25548</td>\n",
       "      <td>25013</td>\n",
       "      <td>22937</td>\n",
       "      <td>21798</td>\n",
       "      <td>21081</td>\n",
       "      <td>...</td>\n",
       "      <td>2791</td>\n",
       "      <td>2804</td>\n",
       "      <td>2729</td>\n",
       "      <td>2606</td>\n",
       "      <td>2606</td>\n",
       "      <td>2641</td>\n",
       "      <td>2437</td>\n",
       "      <td>2540</td>\n",
       "      <td>2635</td>\n",
       "      <td>2366</td>\n",
       "    </tr>\n",
       "    <tr>\n",
       "      <th>2.0</th>\n",
       "      <td>0</td>\n",
       "      <td>46493</td>\n",
       "      <td>46302</td>\n",
       "      <td>43935</td>\n",
       "      <td>40761</td>\n",
       "      <td>40944</td>\n",
       "      <td>38140</td>\n",
       "      <td>37560</td>\n",
       "      <td>35778</td>\n",
       "      <td>33861</td>\n",
       "      <td>...</td>\n",
       "      <td>3624</td>\n",
       "      <td>3558</td>\n",
       "      <td>3314</td>\n",
       "      <td>3592</td>\n",
       "      <td>3323</td>\n",
       "      <td>3073</td>\n",
       "      <td>2986</td>\n",
       "      <td>3058</td>\n",
       "      <td>3092</td>\n",
       "      <td>2612</td>\n",
       "    </tr>\n",
       "    <tr>\n",
       "      <th>3.0</th>\n",
       "      <td>0</td>\n",
       "      <td>61704</td>\n",
       "      <td>63454</td>\n",
       "      <td>60047</td>\n",
       "      <td>57934</td>\n",
       "      <td>56218</td>\n",
       "      <td>52915</td>\n",
       "      <td>49333</td>\n",
       "      <td>48325</td>\n",
       "      <td>47863</td>\n",
       "      <td>...</td>\n",
       "      <td>3321</td>\n",
       "      <td>3240</td>\n",
       "      <td>2799</td>\n",
       "      <td>3079</td>\n",
       "      <td>2904</td>\n",
       "      <td>2638</td>\n",
       "      <td>2660</td>\n",
       "      <td>2462</td>\n",
       "      <td>2170</td>\n",
       "      <td>2468</td>\n",
       "    </tr>\n",
       "    <tr>\n",
       "      <th>4.0</th>\n",
       "      <td>0</td>\n",
       "      <td>76798</td>\n",
       "      <td>78925</td>\n",
       "      <td>73613</td>\n",
       "      <td>70593</td>\n",
       "      <td>66635</td>\n",
       "      <td>62458</td>\n",
       "      <td>61197</td>\n",
       "      <td>59569</td>\n",
       "      <td>57748</td>\n",
       "      <td>...</td>\n",
       "      <td>2343</td>\n",
       "      <td>2260</td>\n",
       "      <td>2492</td>\n",
       "      <td>2032</td>\n",
       "      <td>1800</td>\n",
       "      <td>2084</td>\n",
       "      <td>1919</td>\n",
       "      <td>1795</td>\n",
       "      <td>1695</td>\n",
       "      <td>1813</td>\n",
       "    </tr>\n",
       "  </tbody>\n",
       "</table>\n",
       "<p>5 rows × 99 columns</p>\n",
       "</div>"
      ],
      "text/plain": [
       "order_number            1.0    2.0    3.0    4.0    5.0    6.0    7.0    8.0   \\\n",
       "days_since_prior_order                                                          \n",
       "0.0                        0  20564  20452  18000  16451  16063  14396  13896   \n",
       "1.0                        0  31693  29975  28028  27112  25548  25013  22937   \n",
       "2.0                        0  46493  46302  43935  40761  40944  38140  37560   \n",
       "3.0                        0  61704  63454  60047  57934  56218  52915  49333   \n",
       "4.0                        0  76798  78925  73613  70593  66635  62458  61197   \n",
       "\n",
       "order_number             9.0    10.0  ...  90.0  91.0  92.0  93.0  94.0  95.0  \\\n",
       "days_since_prior_order                ...                                       \n",
       "0.0                     12782  11470  ...  1195  1150  1040   937  1137  1099   \n",
       "1.0                     21798  21081  ...  2791  2804  2729  2606  2606  2641   \n",
       "2.0                     35778  33861  ...  3624  3558  3314  3592  3323  3073   \n",
       "3.0                     48325  47863  ...  3321  3240  2799  3079  2904  2638   \n",
       "4.0                     59569  57748  ...  2343  2260  2492  2032  1800  2084   \n",
       "\n",
       "order_number            96.0  97.0  98.0  99.0  \n",
       "days_since_prior_order                          \n",
       "0.0                     1041   885  1038   937  \n",
       "1.0                     2437  2540  2635  2366  \n",
       "2.0                     2986  3058  3092  2612  \n",
       "3.0                     2660  2462  2170  2468  \n",
       "4.0                     1919  1795  1695  1813  \n",
       "\n",
       "[5 rows x 99 columns]"
      ]
     },
     "execution_count": 17,
     "metadata": {},
     "output_type": "execute_result"
    }
   ],
   "source": [
    "crosstab.head()"
   ]
  },
  {
   "cell_type": "code",
   "execution_count": 19,
   "id": "4b2ec869",
   "metadata": {},
   "outputs": [
    {
     "data": {
      "text/plain": [
       "0    31\n",
       "Name: 1.0, dtype: int64"
      ]
     },
     "execution_count": 19,
     "metadata": {},
     "output_type": "execute_result"
    }
   ],
   "source": [
    "crosstab[1.0].value_counts()\n",
    "#supports assumption that NaN values in 'days_since_prior_order' can be disregarded."
   ]
  },
  {
   "cell_type": "markdown",
   "id": "0b1d124f",
   "metadata": {},
   "source": [
    "## 04. Regional Segmentation"
   ]
  },
  {
   "cell_type": "code",
   "execution_count": 1,
   "id": "6fcc78f2",
   "metadata": {
    "collapsed": true
   },
   "outputs": [
    {
     "ename": "NameError",
     "evalue": "name 'pd' is not defined",
     "output_type": "error",
     "traceback": [
      "\u001b[1;31m---------------------------------------------------------------------------\u001b[0m",
      "\u001b[1;31mNameError\u001b[0m                                 Traceback (most recent call last)",
      "Cell \u001b[1;32mIn[1], line 3\u001b[0m\n\u001b[0;32m      1\u001b[0m \u001b[38;5;66;03m#creating region flag\u001b[39;00m\n\u001b[0;32m      2\u001b[0m \u001b[38;5;66;03m##importing reference table\u001b[39;00m\n\u001b[1;32m----> 3\u001b[0m df_state \u001b[38;5;241m=\u001b[39m \u001b[43mpd\u001b[49m\u001b[38;5;241m.\u001b[39mread_csv(\u001b[38;5;124mr\u001b[39m\u001b[38;5;124m'\u001b[39m\u001b[38;5;124mC:\u001b[39m\u001b[38;5;124m\\\u001b[39m\u001b[38;5;124mUsers\u001b[39m\u001b[38;5;124m\\\u001b[39m\u001b[38;5;124mjmanc\u001b[39m\u001b[38;5;124m\\\u001b[39m\u001b[38;5;124mOneDrive\u001b[39m\u001b[38;5;124m\\\u001b[39m\u001b[38;5;124mDesktop\u001b[39m\u001b[38;5;124m\\\u001b[39m\u001b[38;5;124mInstaCart Basket Analysis\u001b[39m\u001b[38;5;124m\\\u001b[39m\u001b[38;5;124m02 Data\u001b[39m\u001b[38;5;124m\\\u001b[39m\u001b[38;5;124mOriginal Data\u001b[39m\u001b[38;5;124m\\\u001b[39m\u001b[38;5;124mState Num temp.csv\u001b[39m\u001b[38;5;124m'\u001b[39m)\n\u001b[0;32m      4\u001b[0m \u001b[38;5;66;03m##merging refence table\u001b[39;00m\n\u001b[0;32m      5\u001b[0m df_full \u001b[38;5;241m=\u001b[39m df_full\u001b[38;5;241m.\u001b[39mmerge(df_state, on \u001b[38;5;241m=\u001b[39m \u001b[38;5;124m'\u001b[39m\u001b[38;5;124mstate\u001b[39m\u001b[38;5;124m'\u001b[39m) \n",
      "\u001b[1;31mNameError\u001b[0m: name 'pd' is not defined"
     ]
    }
   ],
   "source": [
    "#creating region flag\n",
    "##importing reference table\n",
    "df_state = pd.read_csv(r'C:\\Users\\jmanc\\OneDrive\\Desktop\\InstaCart Basket Analysis\\02 Data\\Original Data\\State Num temp.csv')\n",
    "##merging refence table\n",
    "df_full = df_full.merge(df_state, on = 'state') \n",
    "##creating column\n",
    "df_full.loc[df_full['num'] <= 9, 'region'] = 'North'\n",
    "df_full.loc[(df_full['num'] >= 10) & (df_full['num'] <=21), 'region'] = 'Mid-West'\n",
    "df_full.loc[(df_full['num'] >= 22) & (df_full['num'] <=38), 'region'] = 'South'\n",
    "df_full.loc[df_full['num'] >= 39, 'region'] = 'West'\n",
    "#method used reference table that assigned a number 1-51 to each entry. The states were listed in order by region so that value ranges could be used rather than listing each individual value."
   ]
  },
  {
   "cell_type": "code",
   "execution_count": 8,
   "id": "41c9ea92",
   "metadata": {},
   "outputs": [
    {
     "data": {
      "text/plain": [
       "South       10801982\n",
       "West         8300617\n",
       "Mid-West     7604016\n",
       "North        5728444\n",
       "Name: region, dtype: int64"
      ]
     },
     "execution_count": 8,
     "metadata": {},
     "output_type": "execute_result"
    }
   ],
   "source": [
    "#checking results\n",
    "df_full['region'].value_counts()"
   ]
  },
  {
   "cell_type": "code",
   "execution_count": 13,
   "id": "8b85cfdc",
   "metadata": {},
   "outputs": [],
   "source": [
    "#removing unnecessary columns\n",
    "df_full = df_full.drop(columns = ['num','_merge'])"
   ]
  },
  {
   "cell_type": "code",
   "execution_count": 14,
   "id": "e9d33997",
   "metadata": {
    "collapsed": true
   },
   "outputs": [
    {
     "name": "stdout",
     "output_type": "stream",
     "text": [
      "<class 'pandas.core.frame.DataFrame'>\n",
      "Int64Index: 32435059 entries, 0 to 32435058\n",
      "Data columns (total 27 columns):\n",
      " #   Column                  Dtype  \n",
      "---  ------                  -----  \n",
      " 0   order_id                float64\n",
      " 1   user_id                 float64\n",
      " 2   order_number            float64\n",
      " 3   orders_day_of_week      float64\n",
      " 4   hour_of_order           float64\n",
      " 5   days_since_prior_order  float64\n",
      " 6   product_id              int64  \n",
      " 7   add_to_cart_order       float64\n",
      " 8   reordered               float64\n",
      " 9   product_name            object \n",
      " 10  aisle_id                float64\n",
      " 11  department_id           float64\n",
      " 12  prices                  float64\n",
      " 13  max_order               float64\n",
      " 14  loyalty_flag            object \n",
      " 15  mean_price              float64\n",
      " 16  spending_flag           object \n",
      " 17  med_dspo                float64\n",
      " 18  frequent_shopper        object \n",
      " 19  Gender                  object \n",
      " 20  state                   object \n",
      " 21  Age                     int64  \n",
      " 22  date_joined             object \n",
      " 23  dependants              int64  \n",
      " 24  fam_status              object \n",
      " 25  income                  int64  \n",
      " 26  region                  object \n",
      "dtypes: float64(14), int64(4), object(9)\n",
      "memory usage: 6.8+ GB\n"
     ]
    }
   ],
   "source": [
    "df_full.info()"
   ]
  },
  {
   "cell_type": "code",
   "execution_count": 15,
   "id": "27724252",
   "metadata": {},
   "outputs": [
    {
     "data": {
      "text/html": [
       "<div>\n",
       "<style scoped>\n",
       "    .dataframe tbody tr th:only-of-type {\n",
       "        vertical-align: middle;\n",
       "    }\n",
       "\n",
       "    .dataframe tbody tr th {\n",
       "        vertical-align: top;\n",
       "    }\n",
       "\n",
       "    .dataframe thead th {\n",
       "        text-align: right;\n",
       "    }\n",
       "</style>\n",
       "<table border=\"1\" class=\"dataframe\">\n",
       "  <thead>\n",
       "    <tr style=\"text-align: right;\">\n",
       "      <th>spending_flag</th>\n",
       "      <th>high spender</th>\n",
       "      <th>low spender</th>\n",
       "    </tr>\n",
       "    <tr>\n",
       "      <th>region</th>\n",
       "      <th></th>\n",
       "      <th></th>\n",
       "    </tr>\n",
       "  </thead>\n",
       "  <tbody>\n",
       "    <tr>\n",
       "      <th>Mid-West</th>\n",
       "      <td>156084</td>\n",
       "      <td>7447932</td>\n",
       "    </tr>\n",
       "    <tr>\n",
       "      <th>North</th>\n",
       "      <td>108276</td>\n",
       "      <td>5620168</td>\n",
       "    </tr>\n",
       "    <tr>\n",
       "      <th>South</th>\n",
       "      <td>209878</td>\n",
       "      <td>10592104</td>\n",
       "    </tr>\n",
       "    <tr>\n",
       "      <th>West</th>\n",
       "      <td>160440</td>\n",
       "      <td>8140177</td>\n",
       "    </tr>\n",
       "  </tbody>\n",
       "</table>\n",
       "</div>"
      ],
      "text/plain": [
       "spending_flag  high spender  low spender\n",
       "region                                  \n",
       "Mid-West             156084      7447932\n",
       "North                108276      5620168\n",
       "South                209878     10592104\n",
       "West                 160440      8140177"
      ]
     },
     "execution_count": 15,
     "metadata": {},
     "output_type": "execute_result"
    }
   ],
   "source": [
    "#determining difference in spending Habits\n",
    "crosstab2 = pd.crosstab(df_full['region'], df_full['spending_flag'], dropna = False)\n",
    "crosstab2.head()"
   ]
  },
  {
   "cell_type": "markdown",
   "id": "db72377a",
   "metadata": {},
   "source": [
    "The South region is predominantly comprised of low-spenders, but also has the highest number of high-spenders. The North has the lowest number of high-spenders and lowest number of low spenders."
   ]
  },
  {
   "cell_type": "markdown",
   "id": "d7a1a425",
   "metadata": {},
   "source": [
    "# 05. Creating Low-Activity Exclusion Flag"
   ]
  },
  {
   "cell_type": "code",
   "execution_count": 29,
   "id": "7ddb75c0",
   "metadata": {},
   "outputs": [],
   "source": [
    "df_highact = df_full #creating copy of df_full"
   ]
  },
  {
   "cell_type": "code",
   "execution_count": 30,
   "id": "0f910fe2",
   "metadata": {},
   "outputs": [],
   "source": [
    "df_highact.loc[df_highact['order_number'] < 5, 'exclusion_flag'] = 0\n",
    "df_highact.loc[df_highact['order_number'] >= 5, 'exclusion_flag'] = 1\n",
    "#creating exclsuionary flag using .loc and setting output to numbers"
   ]
  },
  {
   "cell_type": "code",
   "execution_count": 31,
   "id": "fda839c7",
   "metadata": {},
   "outputs": [
    {
     "data": {
      "text/plain": [
       "(32435059, 28)"
      ]
     },
     "execution_count": 31,
     "metadata": {},
     "output_type": "execute_result"
    }
   ],
   "source": [
    "df_highact.shape #checking shape"
   ]
  },
  {
   "cell_type": "code",
   "execution_count": 33,
   "id": "2151483e",
   "metadata": {},
   "outputs": [],
   "source": [
    "df_highact = df_highact.loc[df_highact['exclusion_flag'] != 0]\n",
    "#selecting only values that do not equal 0 for the data frame using .iloc"
   ]
  },
  {
   "cell_type": "code",
   "execution_count": 34,
   "id": "d2312eae",
   "metadata": {},
   "outputs": [
    {
     "data": {
      "text/plain": [
       "(24437464, 28)"
      ]
     },
     "execution_count": 34,
     "metadata": {},
     "output_type": "execute_result"
    }
   ],
   "source": [
    "df_highact.shape #checking shape to see if method worked"
   ]
  },
  {
   "cell_type": "code",
   "execution_count": 35,
   "id": "604e8738",
   "metadata": {},
   "outputs": [
    {
     "data": {
      "text/html": [
       "<div>\n",
       "<style scoped>\n",
       "    .dataframe tbody tr th:only-of-type {\n",
       "        vertical-align: middle;\n",
       "    }\n",
       "\n",
       "    .dataframe tbody tr th {\n",
       "        vertical-align: top;\n",
       "    }\n",
       "\n",
       "    .dataframe thead th {\n",
       "        text-align: right;\n",
       "    }\n",
       "</style>\n",
       "<table border=\"1\" class=\"dataframe\">\n",
       "  <thead>\n",
       "    <tr style=\"text-align: right;\">\n",
       "      <th></th>\n",
       "      <th>order_id</th>\n",
       "      <th>user_id</th>\n",
       "      <th>order_number</th>\n",
       "      <th>orders_day_of_week</th>\n",
       "      <th>hour_of_order</th>\n",
       "      <th>days_since_prior_order</th>\n",
       "      <th>product_id</th>\n",
       "      <th>add_to_cart_order</th>\n",
       "      <th>reordered</th>\n",
       "      <th>product_name</th>\n",
       "      <th>...</th>\n",
       "      <th>frequent_shopper</th>\n",
       "      <th>Gender</th>\n",
       "      <th>state</th>\n",
       "      <th>Age</th>\n",
       "      <th>date_joined</th>\n",
       "      <th>dependants</th>\n",
       "      <th>fam_status</th>\n",
       "      <th>income</th>\n",
       "      <th>region</th>\n",
       "      <th>exclusion_flag</th>\n",
       "    </tr>\n",
       "  </thead>\n",
       "  <tbody>\n",
       "    <tr>\n",
       "      <th>4</th>\n",
       "      <td>431534.0</td>\n",
       "      <td>1.0</td>\n",
       "      <td>5.0</td>\n",
       "      <td>4.0</td>\n",
       "      <td>15.0</td>\n",
       "      <td>28.0</td>\n",
       "      <td>196</td>\n",
       "      <td>1.0</td>\n",
       "      <td>1.0</td>\n",
       "      <td>Soda</td>\n",
       "      <td>...</td>\n",
       "      <td>non-frequent</td>\n",
       "      <td>Female</td>\n",
       "      <td>Alabama</td>\n",
       "      <td>31</td>\n",
       "      <td>2/17/2019</td>\n",
       "      <td>3</td>\n",
       "      <td>married</td>\n",
       "      <td>40423</td>\n",
       "      <td>South</td>\n",
       "      <td>1</td>\n",
       "    </tr>\n",
       "    <tr>\n",
       "      <th>5</th>\n",
       "      <td>3367565.0</td>\n",
       "      <td>1.0</td>\n",
       "      <td>6.0</td>\n",
       "      <td>2.0</td>\n",
       "      <td>7.0</td>\n",
       "      <td>19.0</td>\n",
       "      <td>196</td>\n",
       "      <td>1.0</td>\n",
       "      <td>1.0</td>\n",
       "      <td>Soda</td>\n",
       "      <td>...</td>\n",
       "      <td>non-frequent</td>\n",
       "      <td>Female</td>\n",
       "      <td>Alabama</td>\n",
       "      <td>31</td>\n",
       "      <td>2/17/2019</td>\n",
       "      <td>3</td>\n",
       "      <td>married</td>\n",
       "      <td>40423</td>\n",
       "      <td>South</td>\n",
       "      <td>1</td>\n",
       "    </tr>\n",
       "    <tr>\n",
       "      <th>6</th>\n",
       "      <td>550135.0</td>\n",
       "      <td>1.0</td>\n",
       "      <td>7.0</td>\n",
       "      <td>1.0</td>\n",
       "      <td>9.0</td>\n",
       "      <td>20.0</td>\n",
       "      <td>196</td>\n",
       "      <td>1.0</td>\n",
       "      <td>1.0</td>\n",
       "      <td>Soda</td>\n",
       "      <td>...</td>\n",
       "      <td>non-frequent</td>\n",
       "      <td>Female</td>\n",
       "      <td>Alabama</td>\n",
       "      <td>31</td>\n",
       "      <td>2/17/2019</td>\n",
       "      <td>3</td>\n",
       "      <td>married</td>\n",
       "      <td>40423</td>\n",
       "      <td>South</td>\n",
       "      <td>1</td>\n",
       "    </tr>\n",
       "    <tr>\n",
       "      <th>7</th>\n",
       "      <td>3108588.0</td>\n",
       "      <td>1.0</td>\n",
       "      <td>8.0</td>\n",
       "      <td>1.0</td>\n",
       "      <td>14.0</td>\n",
       "      <td>14.0</td>\n",
       "      <td>196</td>\n",
       "      <td>2.0</td>\n",
       "      <td>1.0</td>\n",
       "      <td>Soda</td>\n",
       "      <td>...</td>\n",
       "      <td>non-frequent</td>\n",
       "      <td>Female</td>\n",
       "      <td>Alabama</td>\n",
       "      <td>31</td>\n",
       "      <td>2/17/2019</td>\n",
       "      <td>3</td>\n",
       "      <td>married</td>\n",
       "      <td>40423</td>\n",
       "      <td>South</td>\n",
       "      <td>1</td>\n",
       "    </tr>\n",
       "    <tr>\n",
       "      <th>8</th>\n",
       "      <td>2295261.0</td>\n",
       "      <td>1.0</td>\n",
       "      <td>9.0</td>\n",
       "      <td>1.0</td>\n",
       "      <td>16.0</td>\n",
       "      <td>0.0</td>\n",
       "      <td>196</td>\n",
       "      <td>4.0</td>\n",
       "      <td>1.0</td>\n",
       "      <td>Soda</td>\n",
       "      <td>...</td>\n",
       "      <td>non-frequent</td>\n",
       "      <td>Female</td>\n",
       "      <td>Alabama</td>\n",
       "      <td>31</td>\n",
       "      <td>2/17/2019</td>\n",
       "      <td>3</td>\n",
       "      <td>married</td>\n",
       "      <td>40423</td>\n",
       "      <td>South</td>\n",
       "      <td>1</td>\n",
       "    </tr>\n",
       "  </tbody>\n",
       "</table>\n",
       "<p>5 rows × 28 columns</p>\n",
       "</div>"
      ],
      "text/plain": [
       "    order_id  user_id  order_number  orders_day_of_week  hour_of_order  \\\n",
       "4   431534.0      1.0           5.0                 4.0           15.0   \n",
       "5  3367565.0      1.0           6.0                 2.0            7.0   \n",
       "6   550135.0      1.0           7.0                 1.0            9.0   \n",
       "7  3108588.0      1.0           8.0                 1.0           14.0   \n",
       "8  2295261.0      1.0           9.0                 1.0           16.0   \n",
       "\n",
       "   days_since_prior_order  product_id  add_to_cart_order  reordered  \\\n",
       "4                    28.0         196                1.0        1.0   \n",
       "5                    19.0         196                1.0        1.0   \n",
       "6                    20.0         196                1.0        1.0   \n",
       "7                    14.0         196                2.0        1.0   \n",
       "8                     0.0         196                4.0        1.0   \n",
       "\n",
       "  product_name  ...  frequent_shopper  Gender    state  Age date_joined  \\\n",
       "4         Soda  ...      non-frequent  Female  Alabama   31   2/17/2019   \n",
       "5         Soda  ...      non-frequent  Female  Alabama   31   2/17/2019   \n",
       "6         Soda  ...      non-frequent  Female  Alabama   31   2/17/2019   \n",
       "7         Soda  ...      non-frequent  Female  Alabama   31   2/17/2019   \n",
       "8         Soda  ...      non-frequent  Female  Alabama   31   2/17/2019   \n",
       "\n",
       "   dependants fam_status  income region exclusion_flag  \n",
       "4           3    married   40423  South              1  \n",
       "5           3    married   40423  South              1  \n",
       "6           3    married   40423  South              1  \n",
       "7           3    married   40423  South              1  \n",
       "8           3    married   40423  South              1  \n",
       "\n",
       "[5 rows x 28 columns]"
      ]
     },
     "execution_count": 35,
     "metadata": {},
     "output_type": "execute_result"
    }
   ],
   "source": [
    "df_highact.head() #checking for intended output"
   ]
  },
  {
   "cell_type": "code",
   "execution_count": 36,
   "id": "7d5c2603",
   "metadata": {},
   "outputs": [],
   "source": [
    "#Exporting Sample\n",
    "df_highact.to_pickle(r'C:\\Users\\jmanc\\OneDrive\\Desktop\\InstaCart Basket Analysis\\02 Data\\Prepared Data\\high_activity.pkl')"
   ]
  },
  {
   "cell_type": "markdown",
   "id": "987d0348",
   "metadata": {},
   "source": [
    "## 06. Exporting df_full"
   ]
  },
  {
   "cell_type": "code",
   "execution_count": 37,
   "id": "3d384c17",
   "metadata": {},
   "outputs": [],
   "source": [
    "df_full.to_pickle(r'C:\\Users\\jmanc\\OneDrive\\Desktop\\InstaCart Basket Analysis\\02 Data\\Prepared Data\\ICB_full_merge.pkl')"
   ]
  },
  {
   "cell_type": "markdown",
   "id": "381796c4",
   "metadata": {},
   "source": [
    "# See DI 4.10 Part II for Remainder of Task"
   ]
  },
  {
   "cell_type": "code",
   "execution_count": null,
   "id": "83c58871",
   "metadata": {},
   "outputs": [],
   "source": []
  }
 ],
 "metadata": {
  "kernelspec": {
   "display_name": "Python 3 (ipykernel)",
   "language": "python",
   "name": "python3"
  },
  "language_info": {
   "codemirror_mode": {
    "name": "ipython",
    "version": 3
   },
   "file_extension": ".py",
   "mimetype": "text/x-python",
   "name": "python",
   "nbconvert_exporter": "python",
   "pygments_lexer": "ipython3",
   "version": "3.10.9"
  }
 },
 "nbformat": 4,
 "nbformat_minor": 5
}
