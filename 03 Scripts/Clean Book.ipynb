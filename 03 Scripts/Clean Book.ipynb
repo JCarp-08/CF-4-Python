{
 "cells": [
  {
   "cell_type": "markdown",
   "id": "fd3edb49",
   "metadata": {},
   "source": [
    "# Import Lib"
   ]
  },
  {
   "cell_type": "code",
   "execution_count": 1,
   "id": "b5499185",
   "metadata": {},
   "outputs": [],
   "source": [
    "import pandas as pd\n",
    "import numpy as np\n",
    "import os"
   ]
  },
  {
   "cell_type": "code",
   "execution_count": 2,
   "id": "b019f73f",
   "metadata": {},
   "outputs": [],
   "source": [
    "df_cleaner = pd.read_pickle(r'C:\\Users\\jmanc\\OneDrive\\Desktop\\InstaCart Basket Analysis\\InstaCart Basket Analysis\\02 Data\\Prepared Data\\ICB_full_merge.pkl')"
   ]
  },
  {
   "cell_type": "code",
   "execution_count": 3,
   "id": "d5155715",
   "metadata": {},
   "outputs": [
    {
     "data": {
      "text/html": [
       "<div>\n",
       "<style scoped>\n",
       "    .dataframe tbody tr th:only-of-type {\n",
       "        vertical-align: middle;\n",
       "    }\n",
       "\n",
       "    .dataframe tbody tr th {\n",
       "        vertical-align: top;\n",
       "    }\n",
       "\n",
       "    .dataframe thead th {\n",
       "        text-align: right;\n",
       "    }\n",
       "</style>\n",
       "<table border=\"1\" class=\"dataframe\">\n",
       "  <thead>\n",
       "    <tr style=\"text-align: right;\">\n",
       "      <th></th>\n",
       "      <th>order_id</th>\n",
       "      <th>user_id</th>\n",
       "      <th>order_number</th>\n",
       "      <th>orders_day_of_week</th>\n",
       "      <th>hour_of_order</th>\n",
       "      <th>days_since_prior_order</th>\n",
       "      <th>product_id</th>\n",
       "      <th>add_to_cart_order</th>\n",
       "      <th>reordered</th>\n",
       "      <th>product_name</th>\n",
       "      <th>aisle_id</th>\n",
       "      <th>department_id</th>\n",
       "      <th>prices</th>\n",
       "      <th>_merge</th>\n",
       "      <th>max_order</th>\n",
       "      <th>loyalty_flag</th>\n",
       "      <th>mean_price</th>\n",
       "      <th>spending_flag</th>\n",
       "      <th>med_dspo</th>\n",
       "      <th>frequent_shopper</th>\n",
       "    </tr>\n",
       "  </thead>\n",
       "  <tbody>\n",
       "    <tr>\n",
       "      <th>0</th>\n",
       "      <td>2539329.0</td>\n",
       "      <td>1.0</td>\n",
       "      <td>1.0</td>\n",
       "      <td>2.0</td>\n",
       "      <td>8.0</td>\n",
       "      <td>NaN</td>\n",
       "      <td>196</td>\n",
       "      <td>1.0</td>\n",
       "      <td>0.0</td>\n",
       "      <td>Soda</td>\n",
       "      <td>77.0</td>\n",
       "      <td>7.0</td>\n",
       "      <td>9.0</td>\n",
       "      <td>both</td>\n",
       "      <td>10.0</td>\n",
       "      <td>new customer</td>\n",
       "      <td>6.367797</td>\n",
       "      <td>low spender</td>\n",
       "      <td>20.5</td>\n",
       "      <td>non-frequent</td>\n",
       "    </tr>\n",
       "  </tbody>\n",
       "</table>\n",
       "</div>"
      ],
      "text/plain": [
       "    order_id  user_id  order_number  orders_day_of_week  hour_of_order  \\\n",
       "0  2539329.0      1.0           1.0                 2.0            8.0   \n",
       "\n",
       "   days_since_prior_order  product_id  add_to_cart_order  reordered  \\\n",
       "0                     NaN         196                1.0        0.0   \n",
       "\n",
       "  product_name  aisle_id  department_id  prices _merge  max_order  \\\n",
       "0         Soda      77.0            7.0     9.0   both       10.0   \n",
       "\n",
       "   loyalty_flag  mean_price spending_flag  med_dspo frequent_shopper  \n",
       "0  new customer    6.367797   low spender      20.5     non-frequent  "
      ]
     },
     "execution_count": 3,
     "metadata": {},
     "output_type": "execute_result"
    }
   ],
   "source": [
    "df_cleaner.head(1)"
   ]
  },
  {
   "cell_type": "code",
   "execution_count": 4,
   "id": "b2be79aa",
   "metadata": {},
   "outputs": [
    {
     "data": {
      "text/plain": [
       "(32435070, 20)"
      ]
     },
     "execution_count": 4,
     "metadata": {},
     "output_type": "execute_result"
    }
   ],
   "source": [
    "df_cleaner.shape"
   ]
  },
  {
   "cell_type": "code",
   "execution_count": 5,
   "id": "22fffeab",
   "metadata": {},
   "outputs": [],
   "source": [
    "df_cleaner = df_cleaner.dropna(subset=['user_id'], axis = 0)"
   ]
  },
  {
   "cell_type": "code",
   "execution_count": 6,
   "id": "6c40c827",
   "metadata": {},
   "outputs": [
    {
     "data": {
      "text/html": [
       "<div>\n",
       "<style scoped>\n",
       "    .dataframe tbody tr th:only-of-type {\n",
       "        vertical-align: middle;\n",
       "    }\n",
       "\n",
       "    .dataframe tbody tr th {\n",
       "        vertical-align: top;\n",
       "    }\n",
       "\n",
       "    .dataframe thead th {\n",
       "        text-align: right;\n",
       "    }\n",
       "</style>\n",
       "<table border=\"1\" class=\"dataframe\">\n",
       "  <thead>\n",
       "    <tr style=\"text-align: right;\">\n",
       "      <th></th>\n",
       "      <th>order_id</th>\n",
       "      <th>user_id</th>\n",
       "      <th>order_number</th>\n",
       "      <th>orders_day_of_week</th>\n",
       "      <th>hour_of_order</th>\n",
       "      <th>days_since_prior_order</th>\n",
       "      <th>product_id</th>\n",
       "      <th>add_to_cart_order</th>\n",
       "      <th>reordered</th>\n",
       "      <th>product_name</th>\n",
       "      <th>aisle_id</th>\n",
       "      <th>department_id</th>\n",
       "      <th>prices</th>\n",
       "      <th>_merge</th>\n",
       "      <th>max_order</th>\n",
       "      <th>loyalty_flag</th>\n",
       "      <th>mean_price</th>\n",
       "      <th>spending_flag</th>\n",
       "      <th>med_dspo</th>\n",
       "      <th>frequent_shopper</th>\n",
       "    </tr>\n",
       "  </thead>\n",
       "  <tbody>\n",
       "    <tr>\n",
       "      <th>32435054</th>\n",
       "      <td>1320836.0</td>\n",
       "      <td>202557.0</td>\n",
       "      <td>17.0</td>\n",
       "      <td>2.0</td>\n",
       "      <td>15.0</td>\n",
       "      <td>1.0</td>\n",
       "      <td>43553</td>\n",
       "      <td>2.0</td>\n",
       "      <td>1.0</td>\n",
       "      <td>Orange Energy Shots</td>\n",
       "      <td>64.0</td>\n",
       "      <td>7.0</td>\n",
       "      <td>3.7</td>\n",
       "      <td>both</td>\n",
       "      <td>31.0</td>\n",
       "      <td>regular customer</td>\n",
       "      <td>6.905655</td>\n",
       "      <td>low spender</td>\n",
       "      <td>8.0</td>\n",
       "      <td>frequent</td>\n",
       "    </tr>\n",
       "    <tr>\n",
       "      <th>32435055</th>\n",
       "      <td>31526.0</td>\n",
       "      <td>202557.0</td>\n",
       "      <td>18.0</td>\n",
       "      <td>5.0</td>\n",
       "      <td>11.0</td>\n",
       "      <td>3.0</td>\n",
       "      <td>43553</td>\n",
       "      <td>2.0</td>\n",
       "      <td>1.0</td>\n",
       "      <td>Orange Energy Shots</td>\n",
       "      <td>64.0</td>\n",
       "      <td>7.0</td>\n",
       "      <td>3.7</td>\n",
       "      <td>both</td>\n",
       "      <td>31.0</td>\n",
       "      <td>regular customer</td>\n",
       "      <td>6.905655</td>\n",
       "      <td>low spender</td>\n",
       "      <td>8.0</td>\n",
       "      <td>frequent</td>\n",
       "    </tr>\n",
       "    <tr>\n",
       "      <th>32435056</th>\n",
       "      <td>758936.0</td>\n",
       "      <td>203436.0</td>\n",
       "      <td>1.0</td>\n",
       "      <td>2.0</td>\n",
       "      <td>7.0</td>\n",
       "      <td>NaN</td>\n",
       "      <td>42338</td>\n",
       "      <td>4.0</td>\n",
       "      <td>0.0</td>\n",
       "      <td>Zucchini Chips, Pesto</td>\n",
       "      <td>50.0</td>\n",
       "      <td>19.0</td>\n",
       "      <td>6.9</td>\n",
       "      <td>both</td>\n",
       "      <td>3.0</td>\n",
       "      <td>new customer</td>\n",
       "      <td>7.631579</td>\n",
       "      <td>low spender</td>\n",
       "      <td>15.0</td>\n",
       "      <td>regular</td>\n",
       "    </tr>\n",
       "    <tr>\n",
       "      <th>32435057</th>\n",
       "      <td>2745165.0</td>\n",
       "      <td>203436.0</td>\n",
       "      <td>2.0</td>\n",
       "      <td>3.0</td>\n",
       "      <td>5.0</td>\n",
       "      <td>15.0</td>\n",
       "      <td>42338</td>\n",
       "      <td>16.0</td>\n",
       "      <td>1.0</td>\n",
       "      <td>Zucchini Chips, Pesto</td>\n",
       "      <td>50.0</td>\n",
       "      <td>19.0</td>\n",
       "      <td>6.9</td>\n",
       "      <td>both</td>\n",
       "      <td>3.0</td>\n",
       "      <td>new customer</td>\n",
       "      <td>7.631579</td>\n",
       "      <td>low spender</td>\n",
       "      <td>15.0</td>\n",
       "      <td>regular</td>\n",
       "    </tr>\n",
       "    <tr>\n",
       "      <th>32435058</th>\n",
       "      <td>3093936.0</td>\n",
       "      <td>205420.0</td>\n",
       "      <td>1.0</td>\n",
       "      <td>4.0</td>\n",
       "      <td>14.0</td>\n",
       "      <td>NaN</td>\n",
       "      <td>28818</td>\n",
       "      <td>8.0</td>\n",
       "      <td>0.0</td>\n",
       "      <td>Hot Oatmeal Multigrain Raisin</td>\n",
       "      <td>130.0</td>\n",
       "      <td>14.0</td>\n",
       "      <td>10.3</td>\n",
       "      <td>both</td>\n",
       "      <td>16.0</td>\n",
       "      <td>regular customer</td>\n",
       "      <td>7.684746</td>\n",
       "      <td>low spender</td>\n",
       "      <td>13.0</td>\n",
       "      <td>regular</td>\n",
       "    </tr>\n",
       "  </tbody>\n",
       "</table>\n",
       "</div>"
      ],
      "text/plain": [
       "           order_id   user_id  order_number  orders_day_of_week  \\\n",
       "32435054  1320836.0  202557.0          17.0                 2.0   \n",
       "32435055    31526.0  202557.0          18.0                 5.0   \n",
       "32435056   758936.0  203436.0           1.0                 2.0   \n",
       "32435057  2745165.0  203436.0           2.0                 3.0   \n",
       "32435058  3093936.0  205420.0           1.0                 4.0   \n",
       "\n",
       "          hour_of_order  days_since_prior_order  product_id  \\\n",
       "32435054           15.0                     1.0       43553   \n",
       "32435055           11.0                     3.0       43553   \n",
       "32435056            7.0                     NaN       42338   \n",
       "32435057            5.0                    15.0       42338   \n",
       "32435058           14.0                     NaN       28818   \n",
       "\n",
       "          add_to_cart_order  reordered                   product_name  \\\n",
       "32435054                2.0        1.0            Orange Energy Shots   \n",
       "32435055                2.0        1.0            Orange Energy Shots   \n",
       "32435056                4.0        0.0          Zucchini Chips, Pesto   \n",
       "32435057               16.0        1.0          Zucchini Chips, Pesto   \n",
       "32435058                8.0        0.0  Hot Oatmeal Multigrain Raisin   \n",
       "\n",
       "          aisle_id  department_id  prices _merge  max_order      loyalty_flag  \\\n",
       "32435054      64.0            7.0     3.7   both       31.0  regular customer   \n",
       "32435055      64.0            7.0     3.7   both       31.0  regular customer   \n",
       "32435056      50.0           19.0     6.9   both        3.0      new customer   \n",
       "32435057      50.0           19.0     6.9   both        3.0      new customer   \n",
       "32435058     130.0           14.0    10.3   both       16.0  regular customer   \n",
       "\n",
       "          mean_price spending_flag  med_dspo frequent_shopper  \n",
       "32435054    6.905655   low spender       8.0         frequent  \n",
       "32435055    6.905655   low spender       8.0         frequent  \n",
       "32435056    7.631579   low spender      15.0          regular  \n",
       "32435057    7.631579   low spender      15.0          regular  \n",
       "32435058    7.684746   low spender      13.0          regular  "
      ]
     },
     "execution_count": 6,
     "metadata": {},
     "output_type": "execute_result"
    }
   ],
   "source": [
    "df_cleaner.tail()"
   ]
  },
  {
   "cell_type": "code",
   "execution_count": 7,
   "id": "3a7716bb",
   "metadata": {},
   "outputs": [
    {
     "data": {
      "text/plain": [
       "(32435059, 20)"
      ]
     },
     "execution_count": 7,
     "metadata": {},
     "output_type": "execute_result"
    }
   ],
   "source": [
    "df_cleaner.shape"
   ]
  },
  {
   "cell_type": "markdown",
   "id": "3e43e628",
   "metadata": {},
   "source": [
    "# Export to PKL"
   ]
  },
  {
   "cell_type": "code",
   "execution_count": 8,
   "id": "af9242eb",
   "metadata": {},
   "outputs": [],
   "source": [
    "df_cleaner.to_pickle(r'C:\\Users\\jmanc\\OneDrive\\Desktop\\InstaCart Basket Analysis\\InstaCart Basket Analysis\\02 Data\\Prepared Data\\ICB_full_merge.pkl')"
   ]
  },
  {
   "cell_type": "code",
   "execution_count": null,
   "id": "7b0c3a5a",
   "metadata": {},
   "outputs": [],
   "source": []
  }
 ],
 "metadata": {
  "kernelspec": {
   "display_name": "Python 3 (ipykernel)",
   "language": "python",
   "name": "python3"
  },
  "language_info": {
   "codemirror_mode": {
    "name": "ipython",
    "version": 3
   },
   "file_extension": ".py",
   "mimetype": "text/x-python",
   "name": "python",
   "nbconvert_exporter": "python",
   "pygments_lexer": "ipython3",
   "version": "3.10.9"
  }
 },
 "nbformat": 4,
 "nbformat_minor": 5
}
