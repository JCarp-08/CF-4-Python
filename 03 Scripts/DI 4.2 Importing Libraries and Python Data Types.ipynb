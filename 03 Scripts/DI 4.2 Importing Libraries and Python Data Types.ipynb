{
 "cells": [
  {
   "cell_type": "markdown",
   "id": "f02f7a2b",
   "metadata": {},
   "source": [
    "# 01. Importing Libraries"
   ]
  },
  {
   "cell_type": "code",
   "execution_count": 1,
   "id": "4e35ba4b",
   "metadata": {},
   "outputs": [],
   "source": [
    "# Import Libraries\n",
    "import pandas as pd\n",
    "import numpy as np\n",
    "import os"
   ]
  },
  {
   "cell_type": "markdown",
   "id": "bebc45c9",
   "metadata": {},
   "source": [
    "## 02. Python Data Types"
   ]
  },
  {
   "cell_type": "code",
   "execution_count": 3,
   "id": "7f152d14",
   "metadata": {},
   "outputs": [],
   "source": [
    "# Integer\n",
    "x = 2"
   ]
  },
  {
   "cell_type": "code",
   "execution_count": 4,
   "id": "cd4f3205",
   "metadata": {
    "scrolled": true
   },
   "outputs": [
    {
     "name": "stdout",
     "output_type": "stream",
     "text": [
      "2\n"
     ]
    }
   ],
   "source": [
    "print(x)"
   ]
  },
  {
   "cell_type": "code",
   "execution_count": 5,
   "id": "5977920e",
   "metadata": {},
   "outputs": [],
   "source": [
    "# Floating Point\n",
    "y = 5.678"
   ]
  },
  {
   "cell_type": "code",
   "execution_count": 6,
   "id": "b91a7859",
   "metadata": {},
   "outputs": [
    {
     "data": {
      "text/plain": [
       "float"
      ]
     },
     "execution_count": 6,
     "metadata": {},
     "output_type": "execute_result"
    }
   ],
   "source": [
    "type(y)"
   ]
  },
  {
   "cell_type": "code",
   "execution_count": 7,
   "id": "33257391",
   "metadata": {},
   "outputs": [],
   "source": [
    "# Strings\n",
    "Z = 'Hello'"
   ]
  },
  {
   "cell_type": "code",
   "execution_count": 9,
   "id": "e3608a4d",
   "metadata": {},
   "outputs": [
    {
     "name": "stdout",
     "output_type": "stream",
     "text": [
      "Hello\n"
     ]
    },
    {
     "data": {
      "text/plain": [
       "str"
      ]
     },
     "execution_count": 9,
     "metadata": {},
     "output_type": "execute_result"
    }
   ],
   "source": [
    "print (Z)\n",
    "type (Z)"
   ]
  },
  {
   "cell_type": "code",
   "execution_count": 10,
   "id": "a4edf51e",
   "metadata": {},
   "outputs": [
    {
     "data": {
      "text/plain": [
       "False"
      ]
     },
     "execution_count": 10,
     "metadata": {},
     "output_type": "execute_result"
    }
   ],
   "source": [
    "# Boolean\n",
    "x == y"
   ]
  },
  {
   "cell_type": "markdown",
   "id": "f9fb9ffb",
   "metadata": {},
   "source": [
    "# 03. Task 4.2 Answers"
   ]
  },
  {
   "cell_type": "markdown",
   "id": "fa5845a6",
   "metadata": {},
   "source": [
    "### Question 7"
   ]
  },
  {
   "cell_type": "code",
   "execution_count": 11,
   "id": "5a188b42",
   "metadata": {},
   "outputs": [],
   "source": [
    "a = 50\n",
    "b = 50"
   ]
  },
  {
   "cell_type": "code",
   "execution_count": 12,
   "id": "c50d0261",
   "metadata": {},
   "outputs": [
    {
     "name": "stdout",
     "output_type": "stream",
     "text": [
      "100\n"
     ]
    }
   ],
   "source": [
    "# 1\n",
    "c = (a + b)\n",
    "print (c)"
   ]
  },
  {
   "cell_type": "code",
   "execution_count": 13,
   "id": "b44e59a8",
   "metadata": {},
   "outputs": [
    {
     "name": "stdout",
     "output_type": "stream",
     "text": [
      "25\n"
     ]
    }
   ],
   "source": [
    "d = 25\n",
    "print (d)"
   ]
  },
  {
   "cell_type": "code",
   "execution_count": 14,
   "id": "9b8812c9",
   "metadata": {},
   "outputs": [
    {
     "data": {
      "text/plain": [
       "True"
      ]
     },
     "execution_count": 14,
     "metadata": {},
     "output_type": "execute_result"
    }
   ],
   "source": [
    "# 2\n",
    "(d + d + b) == (a + b) == c"
   ]
  },
  {
   "cell_type": "code",
   "execution_count": 21,
   "id": "6d3258d3",
   "metadata": {},
   "outputs": [
    {
     "name": "stdout",
     "output_type": "stream",
     "text": [
      "100\n",
      "100\n"
     ]
    }
   ],
   "source": [
    "# 3\n",
    "d + d + d + d == c\n",
    "print (d + d + d + d)\n",
    "print (c)"
   ]
  },
  {
   "cell_type": "markdown",
   "id": "31c17f03",
   "metadata": {},
   "source": [
    "### Question 8"
   ]
  },
  {
   "cell_type": "code",
   "execution_count": 22,
   "id": "dcf1cbf8",
   "metadata": {},
   "outputs": [
    {
     "data": {
      "text/plain": [
       "float"
      ]
     },
     "execution_count": 22,
     "metadata": {},
     "output_type": "execute_result"
    }
   ],
   "source": [
    "e = 6.724\n",
    "f = 427.6\n",
    "type (e)\n",
    "type (f)"
   ]
  },
  {
   "cell_type": "code",
   "execution_count": 23,
   "id": "55509de0",
   "metadata": {},
   "outputs": [
    {
     "data": {
      "text/plain": [
       "63.59309934562761"
      ]
     },
     "execution_count": 23,
     "metadata": {},
     "output_type": "execute_result"
    }
   ],
   "source": [
    "(f)/(e)"
   ]
  },
  {
   "cell_type": "markdown",
   "id": "d7a48e65",
   "metadata": {},
   "source": [
    "### Question 9"
   ]
  },
  {
   "cell_type": "code",
   "execution_count": 24,
   "id": "f20a4bad",
   "metadata": {},
   "outputs": [
    {
     "name": "stdout",
     "output_type": "stream",
     "text": [
      "Hello\n"
     ]
    }
   ],
   "source": [
    "g = 'Hel'\n",
    "h = 'lo'\n",
    "print (g+h)"
   ]
  },
  {
   "cell_type": "code",
   "execution_count": 28,
   "id": "e34b93d9",
   "metadata": {
    "scrolled": true
   },
   "outputs": [
    {
     "name": "stdout",
     "output_type": "stream",
     "text": [
      "Hello\n"
     ]
    }
   ],
   "source": [
    "i = g + h \n",
    "print (i)"
   ]
  },
  {
   "cell_type": "markdown",
   "id": "ce72beec",
   "metadata": {},
   "source": [
    "### Question 10"
   ]
  },
  {
   "cell_type": "code",
   "execution_count": 29,
   "id": "a763fc9d",
   "metadata": {},
   "outputs": [],
   "source": [
    "j = 'World'"
   ]
  },
  {
   "cell_type": "code",
   "execution_count": 30,
   "id": "639c1fcf",
   "metadata": {},
   "outputs": [
    {
     "name": "stdout",
     "output_type": "stream",
     "text": [
      "Hello World\n"
     ]
    }
   ],
   "source": [
    "# 1\n",
    "print (i + ' ' + j)"
   ]
  },
  {
   "cell_type": "code",
   "execution_count": 31,
   "id": "3af1b7e0",
   "metadata": {},
   "outputs": [],
   "source": [
    "k = 'May the For'\n",
    "l = 'ce be with you!'"
   ]
  },
  {
   "cell_type": "code",
   "execution_count": 33,
   "id": "b7589bcf",
   "metadata": {},
   "outputs": [
    {
     "name": "stdout",
     "output_type": "stream",
     "text": [
      "May the Force be with you!\n"
     ]
    }
   ],
   "source": [
    "# 2\n",
    "print (k+l)"
   ]
  }
 ],
 "metadata": {
  "kernelspec": {
   "display_name": "Python 3 (ipykernel)",
   "language": "python",
   "name": "python3"
  },
  "language_info": {
   "codemirror_mode": {
    "name": "ipython",
    "version": 3
   },
   "file_extension": ".py",
   "mimetype": "text/x-python",
   "name": "python",
   "nbconvert_exporter": "python",
   "pygments_lexer": "ipython3",
   "version": "3.10.9"
  }
 },
 "nbformat": 4,
 "nbformat_minor": 5
}
