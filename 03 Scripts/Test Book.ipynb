{
 "cells": [
  {
   "cell_type": "markdown",
   "id": "700bf8dc",
   "metadata": {},
   "source": [
    "# Region Split Test"
   ]
  },
  {
   "cell_type": "markdown",
   "id": "28082ff6",
   "metadata": {},
   "source": [
    "## Import Libraries and Data"
   ]
  },
  {
   "cell_type": "code",
   "execution_count": 1,
   "id": "04f5504d",
   "metadata": {},
   "outputs": [],
   "source": [
    "import pandas as pd\n",
    "import numpy as np\n",
    "import os\n",
    "df_full = pd.read_pickle(r'C:\\Users\\jmanc\\OneDrive\\Desktop\\InstaCart Basket Analysis\\02 Data\\Prepared Data\\ICB_full_merge.pkl')\n",
    "df_state = pd.read_csv(r'C:\\Users\\jmanc\\OneDrive\\Desktop\\InstaCart Basket Analysis\\02 Data\\Original Data\\State Num temp.csv')"
   ]
  },
  {
   "cell_type": "code",
   "execution_count": null,
   "id": "f30a4f32",
   "metadata": {},
   "outputs": [],
   "source": [
    "df_state"
   ]
  },
  {
   "cell_type": "code",
   "execution_count": null,
   "id": "e94f9dc1",
   "metadata": {},
   "outputs": [],
   "source": [
    "df_full = df_full.merge(df_state, on = 'state')"
   ]
  },
  {
   "cell_type": "code",
   "execution_count": null,
   "id": "8b75d57c",
   "metadata": {},
   "outputs": [],
   "source": [
    "df_full.info()"
   ]
  },
  {
   "cell_type": "code",
   "execution_count": null,
   "id": "d6aca4ad",
   "metadata": {},
   "outputs": [],
   "source": [
    "df_full['num'].value_counts()"
   ]
  },
  {
   "cell_type": "code",
   "execution_count": null,
   "id": "277163b0",
   "metadata": {},
   "outputs": [],
   "source": [
    "df_full.loc[df_full['num'] <= 9, 'region'] = 'North'\n",
    "df_full.loc[(df_full['num'] >= 10) & (df_full['num'] <=21), 'region'] = 'Mid-West'\n",
    "df_full.loc[(df_full['num'] >= 22) & (df_full['num'] <=38), 'region'] = 'South'\n",
    "df_full.loc[df_full['num'] >= 39, 'region'] = 'West'"
   ]
  },
  {
   "cell_type": "code",
   "execution_count": null,
   "id": "2c1b0197",
   "metadata": {},
   "outputs": [],
   "source": [
    "df_full.head()"
   ]
  },
  {
   "cell_type": "markdown",
   "id": "a4389ce4",
   "metadata": {},
   "source": [
    "# Profiling Test"
   ]
  },
  {
   "cell_type": "code",
   "execution_count": 12,
   "id": "f37af61f",
   "metadata": {},
   "outputs": [],
   "source": [
    "df_full.loc[(df_full['user_id'].isin({'user_id'})) & (df_full['department_id'] == 18) & (df_full['dependants'] != 0), 'parent'] = 'new parent'\n",
    "df_full.loc[(df_full['user_id'].isin({'user_id'})) & (df_full['dependants'] != 0) & (df_full['parent'] != 'new parent'), 'parent'] = 'parent'"
   ]
  },
  {
   "cell_type": "code",
   "execution_count": 13,
   "id": "ba0140d1",
   "metadata": {},
   "outputs": [
    {
     "data": {
      "text/plain": [
       "Series([], Name: parent, dtype: int64)"
      ]
     },
     "execution_count": 13,
     "metadata": {},
     "output_type": "execute_result"
    }
   ],
   "source": [
    "df_full['parent'].value_counts()"
   ]
  },
  {
   "cell_type": "code",
   "execution_count": null,
   "id": "d3523be8",
   "metadata": {},
   "outputs": [],
   "source": []
  }
 ],
 "metadata": {
  "kernelspec": {
   "display_name": "Python 3 (ipykernel)",
   "language": "python",
   "name": "python3"
  },
  "language_info": {
   "codemirror_mode": {
    "name": "ipython",
    "version": 3
   },
   "file_extension": ".py",
   "mimetype": "text/x-python",
   "name": "python",
   "nbconvert_exporter": "python",
   "pygments_lexer": "ipython3",
   "version": "3.10.9"
  }
 },
 "nbformat": 4,
 "nbformat_minor": 5
}
